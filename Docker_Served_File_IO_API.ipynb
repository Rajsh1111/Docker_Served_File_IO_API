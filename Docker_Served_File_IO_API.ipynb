{
 "cells": [
  {
   "cell_type": "markdown",
   "metadata": {},
   "source": [
    "# Docker Served File IO API\n",
    "### for back-end work and more ..."
   ]
  },
  {
   "cell_type": "markdown",
   "metadata": {},
   "source": [
    "![Talk Title Slide](Data_Hour_Title_Slide.PNG)"
   ]
  },
  {
   "cell_type": "markdown",
   "metadata": {},
   "source": [
    "## Overview"
   ]
  },
  {
   "cell_type": "markdown",
   "metadata": {},
   "source": [
    "* Do you need an API to store and retrieve data for a data science web application?\n",
    "* Do you need the same for an AI Architecture that you're developing?\n",
    "* Do you want speed in sharing data between parts of a big application?\n",
    "* Do you need to be able to store and retrieve data quickly from anywhere?\n",
    "* Do you need this data storage and retrieval system to work super reliably?\n",
    "\n",
    "If you answered yes to any of the questions above, then this talk is for you."
   ]
  },
  {
   "cell_type": "markdown",
   "metadata": {},
   "source": [
    "Together, we will:\n",
    "* develop a standard Python class to store and retrieve data files;\n",
    "* apply this class to a FastAPI API application;\n",
    "* test this new API to make sure it works as expected; and\n",
    "* serve this new API from within a Docker container."
   ]
  },
  {
   "cell_type": "markdown",
   "metadata": {},
   "source": [
    "In each step, I am trying to pass onto you some good practices that I have learned the hard way.\n",
    "I hope that what I will share will help you to save time in your API application development work."
   ]
  },
  {
   "cell_type": "markdown",
   "metadata": {},
   "source": [
    "There are 4 sections on the details for this work:\n",
    "1. Python Module / Class Development\n",
    "1. FastAPI API Development\n",
    "1. Testing The API From A Python Script\n",
    "1. Serving The API From A Docker Container"
   ]
  },
  {
   "cell_type": "markdown",
   "metadata": {},
   "source": [
    "## Python Module / Class Development"
   ]
  },
  {
   "cell_type": "markdown",
   "metadata": {},
   "source": [
    "I have found that API development with Python FastAPI is much faster when I develop and test the underlying Python code first.\n",
    "Once that code is working as expected, I then import that to my FastAPI application.\n",
    "The functionality that we need for this API does NOT really need to go into a Python class.\n",
    "I will put each of the functions we need into a separate Python file / module that we will import into the FastAPI application.\n",
    "When I show you how to create the SQL API, we will have good reasons to use a class for that work."
   ]
  },
  {
   "cell_type": "markdown",
   "metadata": {},
   "source": [
    "### The File IO Code Development"
   ]
  },
  {
   "cell_type": "markdown",
   "metadata": {},
   "source": [
    "Even though I will present the code for our File_IO.py module in separate cells, all of these cells make up the single File_IO.py file. \n",
    "The File_IO.py file is also in the repository for this talk."
   ]
  },
  {
   "cell_type": "markdown",
   "metadata": {},
   "source": [
    "First we import the necessary Python modules and set an important global variable - `files_location`."
   ]
  },
  {
   "cell_type": "code",
   "execution_count": 1,
   "metadata": {},
   "outputs": [],
   "source": [
    "import json\n",
    "import os\n",
    "\n",
    "\n",
    "files_location = \"./files\""
   ]
  },
  {
   "cell_type": "markdown",
   "metadata": {},
   "source": [
    "The next function is a convenience function.\n",
    "We won't use it directly in this file.\n",
    "We will use it later from our API file.\n",
    "It simply creates a directory if it doesn't exist."
   ]
  },
  {
   "cell_type": "code",
   "execution_count": 2,
   "metadata": {},
   "outputs": [],
   "source": [
    "def prepare_dir(dir_name):\n",
    "    if not os.path.isdir(dir_name):\n",
    "        os.makedirs(dir_name)"
   ]
  },
  {
   "cell_type": "markdown",
   "metadata": {},
   "source": [
    "The next function is also a convenience function is intended to ONLY be used in this module, BUT it could be used from other places that import this module.\n",
    "This function is similar to `prepare_dir` function, but this one actually looks at the file path for the file passed to the function and creates any directories under our `files_location` that do not already exist."
   ]
  },
  {
   "cell_type": "code",
   "execution_count": 3,
   "metadata": {},
   "outputs": [],
   "source": [
    "def prepare_file_dir(file_name):\n",
    "    tree_list = file_name.split(\"/\")[:-1]\n",
    "    if tree_list:\n",
    "        dir_path = \"/\".join(tree_list)\n",
    "        if not os.path.isdir(dir_path):\n",
    "            os.makedirs(dir_path)"
   ]
  },
  {
   "cell_type": "markdown",
   "metadata": {},
   "source": [
    "The `load_object_from_json_file` function first builds the complete file path to where the file should be located.\n",
    "Then it uses the `prepare_file_dir` function to create any directories that do not already exist.\n",
    "Next, the logic block reads the json file using `UTF-8` encoding IF the file exists and converts the stored object in the file from a stringified JSON object to the original object.\n",
    "If the file does not exist, an empty object (Python dictionary) is returned.\n",
    "Note the use of context managers throughout. \n",
    "Context managers help to create clean code.\n",
    "By using `with`, we ensure that file alias `f` will be closed when the code within the `with` block is completed."
   ]
  },
  {
   "cell_type": "code",
   "execution_count": 4,
   "metadata": {},
   "outputs": [],
   "source": [
    "def load_object_from_json_file(file_name):\n",
    "    file_name = f\"{files_location}/{file_name}\"\n",
    "    prepare_file_dir(file_name)\n",
    "    if os.path.exists(file_name):\n",
    "        with open(file_name, \"r\", encoding=\"utf-8\") as f:\n",
    "            object = json.load(f)\n",
    "    else:\n",
    "        object = {}\n",
    "\n",
    "    return object"
   ]
  },
  {
   "cell_type": "markdown",
   "metadata": {},
   "source": [
    "The `store_object_to_json_file` function is used to store a Python dictionary as a string to a JSON file.\n",
    "This function is pretty much the reverse of the previous function.\n",
    "We build the file_name.\n",
    "We create any directories that need to be created.\n",
    "We open the JSON file for writing, and we use the `json.dump` method to store the JSON data to file.\n",
    "Note the following:\n",
    "* `encoding=\"utf-8\"` ensures we can store most anything\n",
    "* `ensure_ascii=False` makes sure we retain the flexibility of `utf-8`\n",
    "* `indent=4` makes the file easy on the eyes when reading\n",
    "* `default=str` is MAGICAL in that it helps with tougher fields that could be hard to store as JSON\n",
    "\n",
    "Finally, I make sure the `file_name` exists to check operations."
   ]
  },
  {
   "cell_type": "code",
   "execution_count": 5,
   "metadata": {},
   "outputs": [],
   "source": [
    "def store_object_to_json_file(the_dict, file_name):\n",
    "    file_name = f\"{files_location}/{file_name}\"\n",
    "    prepare_file_dir(file_name)\n",
    "    with open(file_name, \"w\", encoding=\"utf-8\") as f:\n",
    "        json.dump(the_dict, f, ensure_ascii=False, indent=4, default=str)\n",
    "\n",
    "    if os.path.exists(file_name):\n",
    "        # print(f\"Successfully stored {file_name} to {file_name}\")\n",
    "        return {\"status\": \"Success\"}\n",
    "    else:\n",
    "        # print(f\"Failed to store {file_name} to {file_name}\")\n",
    "        return {\"status\": \"Failure\"}"
   ]
  },
  {
   "cell_type": "markdown",
   "metadata": {},
   "source": [
    "The next two functions, `load_text_from_file` and `store_text_to_file`, are to be called when we are working with simple text files."
   ]
  },
  {
   "cell_type": "code",
   "execution_count": 6,
   "metadata": {},
   "outputs": [],
   "source": [
    "def load_text_from_file(file_name):\n",
    "    file_name = f\"{files_location}/{file_name}\"\n",
    "    prepare_file_dir(file_name)\n",
    "    if os.path.exists(file_name):\n",
    "        with open(file_name, \"r\", encoding=\"utf-8\") as f:\n",
    "            text = f.read()\n",
    "    else:\n",
    "        text = \"\"\n",
    "\n",
    "    return text"
   ]
  },
  {
   "cell_type": "code",
   "execution_count": 7,
   "metadata": {},
   "outputs": [],
   "source": [
    "def store_text_to_file(text, file_name):\n",
    "    file_name = f\"{files_location}/{file_name}\"\n",
    "    prepare_file_dir(file_name)\n",
    "    with open(file_name, \"w\", encoding=\"utf-8\") as f:\n",
    "        f.write(text)\n",
    "\n",
    "    if os.path.exists(file_name):\n",
    "        return {\"status\": \"Success\"}\n",
    "    else:\n",
    "        return {\"status\": \"Failure\"}"
   ]
  },
  {
   "cell_type": "markdown",
   "metadata": {},
   "source": [
    "Finally, we may want to remove a file from the server file storage.\n",
    "NOTE that you could, at this point, or in the API, add additional functionality to remove:\n",
    "* all files\n",
    "* all of a certain type of files (*.txt, *.html, *.json, etc.)"
   ]
  },
  {
   "cell_type": "code",
   "execution_count": 8,
   "metadata": {},
   "outputs": [],
   "source": [
    "def remove_file(file_name):\n",
    "    file_name = f\"{files_location}/{file_name}\"\n",
    "    if os.path.exists(file_name):\n",
    "        os.remove(file_name)\n",
    "    else:\n",
    "        return {\"message\": f\"{file_name} does not exist\"}\n",
    "\n",
    "    if not os.path.exists(file_name):\n",
    "        return {\"message\": f\"Successfully deleted {file_name}\"}"
   ]
  },
  {
   "cell_type": "markdown",
   "metadata": {},
   "source": [
    "### File IO Module Testing"
   ]
  },
  {
   "cell_type": "markdown",
   "metadata": {},
   "source": [
    "I will only test a few things here for the sake of time and amount of writing.\n",
    "I have tested all of these before.\n",
    "When you create such a module with functions, or a class or classes in a module, you will of course want to test adequately."
   ]
  },
  {
   "cell_type": "code",
   "execution_count": 9,
   "metadata": {},
   "outputs": [],
   "source": [
    "prepare_dir(files_location)"
   ]
  },
  {
   "cell_type": "markdown",
   "metadata": {},
   "source": [
    "When I ran the above function, the `files` directory was created as expected."
   ]
  },
  {
   "cell_type": "code",
   "execution_count": 10,
   "metadata": {},
   "outputs": [
    {
     "data": {
      "text/plain": [
       "{}"
      ]
     },
     "execution_count": 10,
     "metadata": {},
     "output_type": "execute_result"
    }
   ],
   "source": [
    "the_D = load_object_from_json_file(\"first_file.json\")\n",
    "the_D"
   ]
  },
  {
   "cell_type": "markdown",
   "metadata": {},
   "source": [
    "When running the `load_object_from_json_file` function, we obtained an empty dictionary as expected, since there is no `first_file.json` file yet."
   ]
  },
  {
   "cell_type": "code",
   "execution_count": 11,
   "metadata": {},
   "outputs": [
    {
     "data": {
      "text/plain": [
       "{'status': 'Success'}"
      ]
     },
     "execution_count": 11,
     "metadata": {},
     "output_type": "execute_result"
    }
   ],
   "source": [
    "the_D[\"key_1\"] = 1.0\n",
    "the_D[\"key_2\"] = 2.0\n",
    "\n",
    "store_object_to_json_file(the_D, \"first_file.json\")"
   ]
  },
  {
   "cell_type": "markdown",
   "metadata": {},
   "source": [
    "I created two key value pairs for `the_D` and stored them using `store_object_to_json_file`.\n",
    "The function let us know that we stored data to `first_file.json` successfully.\n",
    "If you are running this notebook yourself, you will also see `first_file.json` in the `files` subdirectory.\n",
    "Look at the file in your integrated development environment (IDE).\n",
    "I am using VS Code, and I am running this notebook in VS Code.\n",
    "However, let's also look at the contents by repeating the operations of a previous cell."
   ]
  },
  {
   "cell_type": "code",
   "execution_count": 12,
   "metadata": {},
   "outputs": [
    {
     "data": {
      "text/plain": [
       "{'key_1': 1.0, 'key_2': 2.0}"
      ]
     },
     "execution_count": 12,
     "metadata": {},
     "output_type": "execute_result"
    }
   ],
   "source": [
    "the_D = load_object_from_json_file(\"first_file.json\")\n",
    "the_D"
   ]
  },
  {
   "cell_type": "markdown",
   "metadata": {},
   "source": [
    "Nice. \n",
    "Those few tests worked well.\n",
    "I leave it to you to test the other functions."
   ]
  },
  {
   "cell_type": "markdown",
   "metadata": {},
   "source": [
    "Please also NOTE that a file named `File_IO_Usage.py` was created to replicate the above testing in a single Python script.\n",
    "I encourage you to at least look at it.\n",
    "To test it, I would suggest first deleting the `files` subdirectory so that you can test from scratch."
   ]
  },
  {
   "cell_type": "markdown",
   "metadata": {},
   "source": [
    "## FastAPI API Development"
   ]
  },
  {
   "cell_type": "markdown",
   "metadata": {},
   "source": [
    "The next step is to create a FastAPI application.\n",
    "Thanks to doing the module work, we can make FastAPI code VERY lean."
   ]
  },
  {
   "cell_type": "markdown",
   "metadata": {},
   "source": [
    "As before, I will show all the code contiguously, but I will do so in separate cells with comments in between.\n",
    "This section only covers the code development for the FastAPI API.\n",
    "The name of the file containing all the FastAPI code is `File_IO_API.py`."
   ]
  },
  {
   "cell_type": "markdown",
   "metadata": {},
   "source": [
    "### The Code Development"
   ]
  },
  {
   "cell_type": "markdown",
   "metadata": {},
   "source": [
    "The first code cell covers the imports that we need.\n",
    "I trust the import of the FastAPI class from fastapi is clear.\n",
    "We will use that soon.\n",
    "The CORSMiddleware import is new.\n",
    "We need this so that we can tell FastAPI the web pages / apps that are allowed to use it.\n",
    "Then from typing and pydantic, we import List and BaseModel, respectively.\n",
    "These are useful data type classes, and their power will soon become evident.\n",
    "We will want access to our `File_IO` module, thus we import and alias that to `file_io`.\n",
    "The json and os imports will be explained when necessary below."
   ]
  },
  {
   "cell_type": "code",
   "execution_count": null,
   "metadata": {},
   "outputs": [],
   "source": [
    "from fastapi import FastAPI\n",
    "from fastapi.middleware.cors import CORSMiddleware\n",
    "from typing import List\n",
    "from pydantic import BaseModel\n",
    "\n",
    "import File_IO as file_io\n",
    "import json\n",
    "import os"
   ]
  },
  {
   "cell_type": "markdown",
   "metadata": {},
   "source": [
    "Next, we will create our first Pydantic data object.\n",
    "NOTE that the data object is contrived for the purpose of illustration.\n",
    "This first object is storage for each client keeping with the scheme from our first exercise at Data Hour."
   ]
  },
  {
   "cell_type": "code",
   "execution_count": null,
   "metadata": {},
   "outputs": [],
   "source": [
    "class Client_Storage_Object(BaseModel):\n",
    "    File_Name: str\n",
    "    Client_Name: str\n",
    "    Client_Email: str\n",
    "    Client_Phone: str\n",
    "    Client_Company: str\n",
    "    Client_ID: str\n",
    "    Agent_Name: str\n",
    "    Agent_Email: str\n",
    "    Agent_Phone: str"
   ]
  },
  {
   "cell_type": "markdown",
   "metadata": {},
   "source": [
    "Let's create one more for illustration purposes on how it can affect the API endpoint development."
   ]
  },
  {
   "cell_type": "code",
   "execution_count": null,
   "metadata": {},
   "outputs": [],
   "source": [
    "class Company_Storage_Object(BaseModel):\n",
    "    File_Name: str\n",
    "    Rep_Name: str\n",
    "    Rep_Email: str\n",
    "    Rep_Phone: str"
   ]
  },
  {
   "cell_type": "markdown",
   "metadata": {},
   "source": [
    "The next part is ESSENTIAL!"
   ]
  },
  {
   "cell_type": "code",
   "execution_count": null,
   "metadata": {},
   "outputs": [],
   "source": [
    "app = FastAPI()"
   ]
  },
  {
   "cell_type": "markdown",
   "metadata": {},
   "source": [
    "We talked about `file_location` previously.\n",
    "It is being set here as a global variable so that we can just use its value throughout the remaining code.\n",
    "The `origins` holds the URL, or domain names, of those web pages that are allowed to use this API via JavaScript fetch calls.\n",
    "Those origins are then added to the `app.add_middleware` tuple."
   ]
  },
  {
   "cell_type": "code",
   "execution_count": null,
   "metadata": {},
   "outputs": [],
   "source": [
    "files_location = \"./files\"\n",
    "\n",
    "origins = [\n",
    "    \"http://127.0.0.1:3000\", # Outlook Add-In\n",
    "    \"http://127.0.0.1:5500\"  # VS Code Live Server\n",
    "]\n",
    "\n",
    "app.add_middleware(\n",
    "    CORSMiddleware,\n",
    "    allow_origins=origins,\n",
    "    allow_credentials=True,\n",
    "    allow_methods=[\"*\"],\n",
    "    allow_headers=[\"*\"],\n",
    ")"
   ]
  },
  {
   "cell_type": "markdown",
   "metadata": {},
   "source": [
    "Next, we will create our first endpoint - `/list_files`.\n",
    "This could also be called an HTTP method.\n",
    "Note the use of a Python decorator.\n",
    "These are one of those beautiful Pythonic things.\n",
    "I also love context managers as previously discussed.\n",
    "Decorators are an elegant way to create a wrapper around a function so that it can be used in a different fashion.\n",
    "I highly encourage you to study them on your own as you have the chance.\n",
    "\n",
    "Note that we declare a function name after the decorator. \n",
    "By personal convention, I like to use the HTTP Method followed by a clear set of words explaining the nature of this function.\n",
    "Next, we use the `prepare_dir` function from the `File_IO` module.\n"
   ]
  },
  {
   "cell_type": "code",
   "execution_count": null,
   "metadata": {},
   "outputs": [],
   "source": [
    "@app.get(\"/list_files\")\n",
    "def get_json_file_list():\n",
    "    file_io.prepare_dir(f\"{files_location}\")\n",
    "    file_list = os.listdir(f\"{files_location}\")\n",
    "\n",
    "    return file_list"
   ]
  },
  {
   "cell_type": "markdown",
   "metadata": {},
   "source": [
    "### Begin Testing Now From The Docs"
   ]
  },
  {
   "cell_type": "markdown",
   "metadata": {},
   "source": [
    "Since we have one endpoint now, let's start testing WHILE we develop the rest of the code.\n",
    "I will open up a command window.\n",
    "I like ConEMU when I have to work in Windows. \n",
    "If you are fortunate enough to be working in Linux, just use your Linux Terminal window.\n",
    "From the command line, after you've activated your Python Virtual Environment that you want to use, run \n",
    "\n",
    "```shell\n",
    "uvicorn File_IO_API:app --port 8005 --reload\n",
    "```\n",
    "\n",
    "This will start the FastAPI server on port 8005.\n",
    "Note that we use the name of the FastAPI Python Script file MINUS the `.py` part.\n",
    "If we hadn't declared the port number with `--port 8005`, uvicorn would have used the default of 8000.\n",
    "I like to declare the port, because I am often running multiple APIs on the same server, and I want to control their port numbers.\n",
    "The entire session in my ConEMU terminal window is shown next."
   ]
  },
  {
   "cell_type": "markdown",
   "metadata": {},
   "source": [
    "```shell\n",
    "Microsoft Windows [Version 10.0.19045.4170]\n",
    "\n",
    "tives@VDIDWS-A2-105 C:\\Users\\tives\\Documents\\Repos\\File_IO_API_and_Docker\n",
    "$ C:\\Users\\tives\\Envs\\py312std\\Scripts\\activate\n",
    "\n",
    "(py312std) tives@VDIDWS-A2-105 C:\\Users\\tives\\Documents\\Repos\\File_IO_API_and_Docker\n",
    "$ uvicorn File_IO_API:app --port 8005 --reload\n",
    "INFO:     Will watch for changes in these directories: ['C:\\\\Users\\\\tives\\\\Documents\\\\Repos\\\\File_IO_API_and_Docker']\n",
    "INFO:     Uvicorn running on http://127.0.0.1:8005 (Press CTRL+C to quit)\n",
    "INFO:     Started reloader process [20092] using StatReload\n",
    "INFO:     Started server process [23964]\n",
    "INFO:     Waiting for application startup.\n",
    "INFO:     Application startup complete.\n",
    "INFO:     127.0.0.1:60949 - \"GET /docs HTTP/1.1\" 200 OK\n",
    "INFO:     127.0.0.1:60949 - \"GET /openapi.json HTTP/1.1\" 200 OK\n",
    "```"
   ]
  },
  {
   "cell_type": "markdown",
   "metadata": {},
   "source": [
    "Now NOTE that those final two lines will show up when you open your browser to a new tab and go to ...\n",
    "\n",
    "```shell\n",
    "http://127.0.0.1:8005/docs\n",
    "```\n",
    "\n",
    "which will show ..."
   ]
  },
  {
   "cell_type": "markdown",
   "metadata": {},
   "source": [
    "![First Endpoint - List Files](List_Files_Endpoint.PNG)"
   ]
  },
  {
   "cell_type": "markdown",
   "metadata": {},
   "source": [
    "Click on the bar for that endpoint, then click on `Try It Out`, and then click on the blue `Execute` bar.\n",
    "You should see the following."
   ]
  },
  {
   "cell_type": "markdown",
   "metadata": {},
   "source": [
    "![Docs Result Of List Files Endpoint](List_Files_Endpoint_Results.PNG)"
   ]
  },
  {
   "cell_type": "markdown",
   "metadata": {},
   "source": [
    "This is ENCOURAGING!\n",
    "We can continue to develop and test like this.\n",
    "AND every time that you update File_IO.py or File_IO_API.py, the command terminal will communicate what FastAPI is doing."
   ]
  },
  {
   "cell_type": "markdown",
   "metadata": {},
   "source": [
    "Let's write our second endpoint now."
   ]
  },
  {
   "cell_type": "code",
   "execution_count": null,
   "metadata": {},
   "outputs": [],
   "source": [
    "@app.get(\"/load_client_object_from_json_file\")\n",
    "def get_data_object_from_json_file(file_name: str):\n",
    "    data_obj = file_io.load_object_from_json_file(file_name)\n",
    "\n",
    "    return data_obj"
   ]
  },
  {
   "cell_type": "markdown",
   "metadata": {},
   "source": [
    "NOTE that when that was added to your File_IO_API.py file and saved, the command terminal communicated that changes were detected, and that the uvicorn server was shutdown and restarted.\n",
    "THUS, you will also want to reload your docs page in your browser.\n",
    "You will NOT see the new endpoint until you do."
   ]
  },
  {
   "cell_type": "markdown",
   "metadata": {},
   "source": [
    "We can now follow similar steps as we did before.\n",
    "We click on the new bar for our new endpoint in the browser.\n",
    "We then click on `Try It Out`, but before we click on Execute, we must enter the file name that we want our object from.\n",
    "Let's enter the name of our test file that we've been using - `first_file.json`.\n",
    "Ah! It worked! Encouraging!"
   ]
  },
  {
   "cell_type": "markdown",
   "metadata": {},
   "source": [
    "![Load Client Object From JSON File](Load_Client_Object_From_JSON_File.PNG)"
   ]
  },
  {
   "cell_type": "markdown",
   "metadata": {},
   "source": [
    "OK. Now for the tricky part.\n",
    "We need to store data to a json file THROUGH our API. \n",
    "If we follow the general methods that I am about to show, it should usually go very simple for you."
   ]
  },
  {
   "cell_type": "code",
   "execution_count": null,
   "metadata": {},
   "outputs": [],
   "source": [
    "@app.post(\"/store_client_object_to_json_file\")\n",
    "def post_user_object_to_json_file(storage_object: Client_Storage_Object):\n",
    "    the_dict = {}\n",
    "\n",
    "    the_dict[\"File_Name\"] = storage_object.File_Name\n",
    "    the_dict[\"Client_Name\"] = storage_object.Client_Name\n",
    "    the_dict[\"Client_Email\"] = storage_object.Client_Email\n",
    "    the_dict[\"Client_Phone\"] = storage_object.Client_Phone\n",
    "    the_dict[\"Client_Company\"] = storage_object.Client_Company\n",
    "    the_dict[\"Client_ID\"] = storage_object.Client_ID\n",
    "    the_dict[\"Agent_Name\"] = storage_object.Agent_Name\n",
    "    the_dict[\"Agent_Email\"] = storage_object.Agent_Email\n",
    "    the_dict[\"Agent_Phone\"] = storage_object.Agent_Phone\n",
    "\n",
    "    return file_io.store_object_to_json_file(the_dict, storage_object.File_Name)"
   ]
  },
  {
   "cell_type": "markdown",
   "metadata": {},
   "source": [
    "Hey! That doesn't look too bad - right?\n",
    "We name an incoming data object, `storage_object`, and declare it bo be of type `Client_Storage_Object`, which was defined previously and inherited from the Pydantic BaseModel.\n",
    "Then, we declare an empty Python dictionary.\n",
    "Next, we fill that dictionary with the elements of the `storage_object`.\n",
    "Since we conveniently made one of the elements the file name, we can use that directly, along with our `the_dict` dictionary, and then, finally, we can use our `store_object_to_json_file` function to store our dictionary to our file name.\n",
    "Once we save our `File_IO_API.py` file with this new endpoint, the uvicorn server will restart, and a reload of our docs page, will show the new endpoint.\n",
    "Let's test it like we've done before."
   ]
  },
  {
   "cell_type": "markdown",
   "metadata": {},
   "source": [
    "Notice how when you expand the new endpoint, a schema for the data input is provided using an example value ...\n",
    "\n",
    "```json\n",
    "{\n",
    "  \"File_Name\": \"string\",\n",
    "  \"Client_Name\": \"string\",\n",
    "  \"Client_Email\": \"string\",\n",
    "  \"Client_Phone\": \"string\",\n",
    "  \"Client_Company\": \"string\",\n",
    "  \"Client_ID\": \"string\",\n",
    "  \"Agent_Name\": \"string\",\n",
    "  \"Agent_Email\": \"string\",\n",
    "  \"Agent_Phone\": \"string\"\n",
    "}\n",
    "```"
   ]
  },
  {
   "cell_type": "markdown",
   "metadata": {},
   "source": [
    "Let's use the `Try it out` feature of this new endpoint.\n",
    "I entered ...\n",
    "```json\n",
    "{\n",
    "  \"File_Name\": \"First_Client.json\",\n",
    "  \"Client_Name\": \"Thom Ives\",\n",
    "  \"Client_Email\": \"thom.ives@domain.com\",\n",
    "  \"Client_Phone\": \"505.555.1234\",\n",
    "  \"Client_Company\": \"Future of AI\",\n",
    "  \"Client_ID\": \"1234\",\n",
    "  \"Agent_Name\": \"Eye Carealot\",\n",
    "  \"Agent_Email\": \"eye.carealot@domain.net\",\n",
    "  \"Agent_Phone\": \"505.555.5678\"\n",
    "}\n",
    "```."
   ]
  },
  {
   "cell_type": "markdown",
   "metadata": {},
   "source": [
    "After hitting the blue `Execute` button, I see a `Code 200` and a `Response body` of ...\n",
    "\n",
    "```json\n",
    "{\n",
    "  \"status\": \"Success\"\n",
    "}\n",
    "```\n",
    "\n",
    "I can also see a `First_Client.json` file in my `files` subdirectory, and it's contents are ...\n",
    "\n",
    "```json\n",
    "{\n",
    "    \"File_Name\": \"First_Client.json\",\n",
    "    \"Client_Name\": \"Thom Ives\",\n",
    "    \"Client_Email\": \"thom.ives@domain.com\",\n",
    "    \"Client_Phone\": \"505.555.1234\",\n",
    "    \"Client_Company\": \"Future of AI\",\n",
    "    \"Client_ID\": \"1234\",\n",
    "    \"Agent_Name\": \"Eye Carealot\",\n",
    "    \"Agent_Email\": \"eye.carealot@domain.net\",\n",
    "    \"Agent_Phone\": \"505.555.5678\"\n",
    "}\n",
    "```"
   ]
  },
  {
   "cell_type": "markdown",
   "metadata": {},
   "source": [
    "And, if you use the `load_client_object_from_json_file` endpoint, you will get back the same data structure as above."
   ]
  },
  {
   "cell_type": "markdown",
   "metadata": {},
   "source": [
    "At this point, if you are a data science / AI geek, you feel like you are having more fun than you should be allowed to have!"
   ]
  },
  {
   "cell_type": "markdown",
   "metadata": {},
   "source": [
    "I'd like us to add a bit more horsepower before we move onto the next section.\n",
    "Let's imagine that we'd like to store a list of client objects. \n",
    "Let's see how we would do that."
   ]
  },
  {
   "cell_type": "markdown",
   "metadata": {},
   "source": [
    "This new endpoint will be much like the previous one, but we will make the following changes:\n",
    "* declare the incoming data object to be a `List` of `Client_Storage_Object`s;\n",
    "* create an empty list named clients; and\n",
    "* use a for loop to:\n",
    "    * append a dictionary to the clients list for each new client;\n",
    "    * and assign values from each client object to each client dictionary in the list.\n",
    "\n",
    "Finally, we store our clients list to our json file name."
   ]
  },
  {
   "cell_type": "code",
   "execution_count": null,
   "metadata": {},
   "outputs": [],
   "source": [
    "@app.post(\"/store_client_objects_list_to_json_file\")\n",
    "def post_data_object_to_json_file(storage_objects: List[Client_Storage_Object]):\n",
    "    clients = []\n",
    "\n",
    "    number_of_clients = len(storage_objects)\n",
    "\n",
    "    for client_num in range(number_of_clients):\n",
    "        clients.append({})\n",
    "\n",
    "        clients[client_num][\"File_Name\"] = storage_objects[client_num].File_Name\n",
    "        clients[client_num][\"Client_Name\"] = storage_objects[client_num].Client_Name\n",
    "        clients[client_num][\"Client_Email\"] = storage_objects[client_num].Client_Email\n",
    "        clients[client_num][\"Client_Phone\"] = storage_objects[client_num].Client_Phone\n",
    "        clients[client_num][\"Client_Company\"] = storage_objects[client_num].Client_Company\n",
    "        clients[client_num][\"Client_ID\"] = storage_objects[client_num].Client_ID\n",
    "        clients[client_num][\"Agent_Name\"] = storage_objects[client_num].Agent_Name\n",
    "        clients[client_num][\"Agent_Email\"] = storage_objects[client_num].Agent_Email\n",
    "        clients[client_num][\"Agent_Phone\"] = storage_objects[client_num].Agent_Phone\n",
    "\n",
    "    response = file_io.store_object_to_json_file(clients, storage_objects[0].File_Name)\n",
    "    \n",
    "    return response"
   ]
  },
  {
   "cell_type": "markdown",
   "metadata": {},
   "source": [
    "Reload your doc page for the API in your browser tab.\n",
    "You will now see the new endpoint.\n",
    "`Try it out` and enter data in the `Request Body`.\n",
    "If we can enter two clients successfully into this new file, we can enter many MANY more, so let's just do 2 for time and testing sake.\n",
    "Make up whatever data you want, OR just use my data below."
   ]
  },
  {
   "cell_type": "markdown",
   "metadata": {},
   "source": [
    "```json\n",
    "[\n",
    "  {\n",
    "    \"File_Name\": \"Client_List_1.json\",\n",
    "    \"Client_Name\": \"Gabe Ives\",\n",
    "    \"Client_Email\": \"gabe.ives@gingers.org\",\n",
    "    \"Client_Phone\": \"505.555.3451\",\n",
    "    \"Client_Company\": \"Costco\",\n",
    "    \"Client_ID\": \"001\",\n",
    "    \"Agent_Name\": \"Eye Care\",\n",
    "    \"Agent_Email\": \"eye.care@alot.net\",\n",
    "    \"Agent_Phone\": \"505.555.0987\"\n",
    "  },\n",
    "  {\n",
    "    \"File_Name\": \"Client_List_1.json\",\n",
    "    \"Client_Name\": \"Anna Ives\",\n",
    "    \"Client_Email\": \"anna.ives@spicy.net\",\n",
    "    \"Client_Phone\": \"505.555.7773\",\n",
    "    \"Client_Company\": \"Wonder Land\",\n",
    "    \"Client_ID\": \"002\",\n",
    "    \"Agent_Name\": \"Yew Care\",\n",
    "    \"Agent_Email\": \"yew.care@thanks.net\",\n",
    "    \"Agent_Phone\": \"505.555.0988\"\n",
    "  }\n",
    "]\n",
    "```"
   ]
  },
  {
   "cell_type": "markdown",
   "metadata": {},
   "source": [
    "After running the new endpoint, I see the new `Client_List_1.json` file in the `files` subdirectory, and the new client data is correct as entered.\n",
    "Also, if I use the `load_client_object_from_json_file` endpoint, I get the data back correctly."
   ]
  },
  {
   "cell_type": "markdown",
   "metadata": {},
   "source": [
    "I trust that IF you have understood everything up until this point decently well, you will be able to make MANY MORE APIs to server your needs."
   ]
  },
  {
   "cell_type": "markdown",
   "metadata": {},
   "source": [
    "## Testing The API From A Python Script"
   ]
  },
  {
   "cell_type": "markdown",
   "metadata": {},
   "source": [
    "### Defining The Python Functions To Call API Endpoints"
   ]
  },
  {
   "cell_type": "markdown",
   "metadata": {},
   "source": [
    "Let's imagine now that we are serving our API full time from some server.\n",
    "For convenience, we write some Python scripts that make Python requests to the various API endpoints.\n",
    "Let's look at those Python scripts / functions.\n",
    "The following functions are defined in `File_IO_API_Usage.py`."
   ]
  },
  {
   "cell_type": "code",
   "execution_count": 1,
   "metadata": {},
   "outputs": [],
   "source": [
    "import requests\n",
    "import json\n",
    "\n",
    "file_io_api_server_name_and_port = \"http://127.0.0.1:8005\"\n",
    "\n",
    "\n",
    "def get_file_list():\n",
    "    url = f\"{file_io_api_server_name_and_port}/list_files\"\n",
    "\n",
    "    headers = {\"Content-Type\": \"application/json\"}\n",
    "    file_io_response = requests.get(url=url, headers=headers)\n",
    "\n",
    "    data = json.loads(file_io_response.text)\n",
    "    \n",
    "    return data\n",
    "\n",
    "def get_client_object_from_json_file(file_name):\n",
    "    url = f\"{file_io_api_server_name_and_port}/load_client_object_from_json_file?file_name={file_name}\"\n",
    "\n",
    "    headers = {\"Content-Type\": \"application/json\"}\n",
    "    file_io_response = requests.get(url=url, headers=headers)\n",
    "\n",
    "    data = json.loads(file_io_response.text)\n",
    "    \n",
    "    return data\n",
    "\n",
    "\n",
    "def store_client_object_to_json_file(client_data_D):\n",
    "    url = f\"{file_io_api_server_name_and_port}/store_client_object_to_json_file\"\n",
    "    headers = {\"Content-Type\": \"application/json\"}\n",
    "    jsonized_data = json.dumps(client_data_D, default=str)\n",
    "    file_io_response = requests.post(url=url, headers=headers, data=jsonized_data)\n",
    "\n",
    "    return file_io_response\n",
    "\n",
    "def store_client_objects_list_to_json_file(client_data_D_list):\n",
    "    url = f\"{file_io_api_server_name_and_port}/store_client_objects_list_to_json_file\"\n",
    "    headers = {\"Content-Type\": \"application/json\"}\n",
    "    jsonized_data = json.dumps(client_data_D_list, default=str)\n",
    "    file_io_response = requests.post(url=url, headers=headers, data=jsonized_data)\n",
    "\n",
    "    return file_io_response"
   ]
  },
  {
   "cell_type": "markdown",
   "metadata": {},
   "source": [
    "### Using The Functions That Call API Endpoints"
   ]
  },
  {
   "cell_type": "markdown",
   "metadata": {},
   "source": [
    "Now that these functions are defined that use calls to the API endpoints, let's use them."
   ]
  },
  {
   "cell_type": "code",
   "execution_count": 2,
   "metadata": {},
   "outputs": [
    {
     "name": "stdout",
     "output_type": "stream",
     "text": [
      "['Client_List_1.json', 'Client_List_2.json', 'First_Client.json', 'first_file.json', 'Second_Client.json']\n",
      "<class 'list'>\n",
      "\n",
      "{\"status\":\"Success\"}\n",
      "\n",
      "{'File_Name': 'Second_Client.json', 'Client_Name': 'Sue Ives', 'Client_Email': 'sue.ives@donkey.org', 'Client_Phone': '505.555.3452', 'Client_Company': 'Dockeys On The Edge', 'Client_ID': '007', 'Agent_Name': 'Death Con 5', 'Agent_Email': 'dogs.out@now.org', 'Agent_Phone': '505.555.0985'}\n",
      "<class 'dict'>\n",
      "\n",
      "{\"status\":\"Success\"}\n",
      "\n",
      "[{'File_Name': 'Client_List_2.json', 'Client_Name': 'David Ives', 'Client_Email': 'david.ives@mowers.net', 'Client_Phone': '505.555.3449', 'Client_Company': 'Testers', 'Client_ID': '003', 'Agent_Name': 'Eye Care', 'Agent_Email': 'eye.care@alot.net', 'Agent_Phone': '505.555.0982'}, {'File_Name': 'Client_List_2.json', 'Client_Name': 'Abby Ives', 'Client_Email': 'anna.ives@spicy.net', 'Client_Phone': '505.555.7773', 'Client_Company': 'Exercise Physiologists', 'Client_ID': '004', 'Agent_Name': 'Beat You Up', 'Agent_Email': 'beat.up@you.net', 'Agent_Phone': '505.555.0983'}]\n",
      "<class 'list'>\n",
      "\n"
     ]
    }
   ],
   "source": [
    "####### Calls To Functions ########\n",
    "### Call 1\n",
    "file_list = get_file_list()\n",
    "type_file_list = type(file_list)\n",
    "print(file_list)\n",
    "print(type_file_list)\n",
    "print()\n",
    "\n",
    "### Call 2\n",
    "new_client_object = {\n",
    "    \"File_Name\": \"Second_Client.json\",\n",
    "    \"Client_Name\": \"Sue Ives\",\n",
    "    \"Client_Email\": \"sue.ives@donkey.org\",\n",
    "    \"Client_Phone\": \"505.555.3452\",\n",
    "    \"Client_Company\": \"Dockeys On The Edge\",\n",
    "    \"Client_ID\": \"007\",\n",
    "    \"Agent_Name\": \"Death Con 5\",\n",
    "    \"Agent_Email\": \"dogs.out@now.org\",\n",
    "    \"Agent_Phone\": \"505.555.0985\"\n",
    "  }\n",
    "\n",
    "client_storage_response = store_client_object_to_json_file(new_client_object)\n",
    "print(client_storage_response.text)\n",
    "print()\n",
    "\n",
    "### Call 3\n",
    "client_object = get_client_object_from_json_file(\"Second_Client.json\")\n",
    "type_client_object = type(client_object)\n",
    "print(client_object)\n",
    "print(type_client_object)\n",
    "print()\n",
    "\n",
    "### Call 4\n",
    "new_client_objects_list = [\n",
    "    {\n",
    "        \"File_Name\": \"Client_List_2.json\",\n",
    "        \"Client_Name\": \"David Ives\",\n",
    "        \"Client_Email\": \"david.ives@mowers.net\",\n",
    "        \"Client_Phone\": \"505.555.3449\",\n",
    "        \"Client_Company\": \"Testers\",\n",
    "        \"Client_ID\": \"003\",\n",
    "        \"Agent_Name\": \"Eye Care\",\n",
    "        \"Agent_Email\": \"eye.care@alot.net\",\n",
    "        \"Agent_Phone\": \"505.555.0982\"\n",
    "    },\n",
    "    {\n",
    "        \"File_Name\": \"Client_List_2.json\",\n",
    "        \"Client_Name\": \"Abby Ives\",\n",
    "        \"Client_Email\": \"anna.ives@spicy.net\",\n",
    "        \"Client_Phone\": \"505.555.7773\",\n",
    "        \"Client_Company\": \"Exercise Physiologists\",\n",
    "        \"Client_ID\": \"004\",\n",
    "        \"Agent_Name\": \"Beat You Up\",\n",
    "        \"Agent_Email\": \"beat.up@you.net\",\n",
    "        \"Agent_Phone\": \"505.555.0983\"\n",
    "    }\n",
    "]\n",
    "\n",
    "clients_storage_response = store_client_objects_list_to_json_file(new_client_objects_list)\n",
    "print(clients_storage_response.text)\n",
    "print()\n",
    "\n",
    "### Call 5\n",
    "client_objects = get_client_object_from_json_file(\"Client_List_2.json\")\n",
    "type_client_objects = type(client_objects)\n",
    "print(client_objects)\n",
    "print(type_client_objects)\n",
    "print()"
   ]
  },
  {
   "cell_type": "markdown",
   "metadata": {},
   "source": [
    "Outstanding! \n",
    "Also check that the new file names showed up in your `files` subdirectory.\n",
    "We can now import and use these functions wherever we need. \n",
    "We could also use JavaScript fetch calls to bring the data into JavaScript or something like React.js."
   ]
  },
  {
   "cell_type": "markdown",
   "metadata": {},
   "source": [
    "## Serving The API From A Docker Container"
   ]
  },
  {
   "cell_type": "markdown",
   "metadata": {},
   "source": [
    "text"
   ]
  },
  {
   "cell_type": "markdown",
   "metadata": {},
   "source": []
  }
 ],
 "metadata": {
  "kernelspec": {
   "display_name": "311std",
   "language": "python",
   "name": "python3"
  },
  "language_info": {
   "codemirror_mode": {
    "name": "ipython",
    "version": 3
   },
   "file_extension": ".py",
   "mimetype": "text/x-python",
   "name": "python",
   "nbconvert_exporter": "python",
   "pygments_lexer": "ipython3",
   "version": "3.11.3"
  }
 },
 "nbformat": 4,
 "nbformat_minor": 2
}
